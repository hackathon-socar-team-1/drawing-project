{
  "nbformat": 4,
  "nbformat_minor": 0,
  "metadata": {
    "colab": {
      "name": "Pix2Pix.ipynb",
      "provenance": [],
      "collapsed_sections": []
    },
    "kernelspec": {
      "name": "python3",
      "display_name": "Python 3"
    },
    "language_info": {
      "name": "python"
    },
    "accelerator": "GPU",
    "gpuClass": "standard"
  },
  "cells": [
    {
      "cell_type": "code",
      "execution_count": null,
      "metadata": {
        "id": "t7phSpGokBMN"
      },
      "outputs": [],
      "source": [
        "from os import listdir\n",
        "from os.path import join\n",
        "import random\n",
        "import matplotlib.pyplot as plt\n",
        "import matplotlib.image as img\n",
        "%matplotlib inline\n",
        "\n",
        "import os\n",
        "import time\n",
        "from PIL import Image\n",
        "import torch\n",
        "import torch.nn as nn\n",
        "from torch.utils.data import Dataset\n",
        "from torch.utils.data import DataLoader\n",
        "import torchvision.transforms as transforms\n",
        "from torchvision.transforms.functional import to_pil_image\n",
        "\n",
        "device = torch.device('cuda' if torch.cuda.is_available() else 'cpu')"
      ]
    },
    {
      "cell_type": "code",
      "source": [
        "from google.colab import drive\n",
        "drive.mount('/content/drive')"
      ],
      "metadata": {
        "id": "omVT_HixkLJi"
      },
      "execution_count": null,
      "outputs": []
    },
    {
      "cell_type": "code",
      "source": [
        "root = os.path.join(os.getcwd(), \"drive\", \"MyDrive\")"
      ],
      "metadata": {
        "id": "NVXoqImakSH5"
      },
      "execution_count": null,
      "outputs": []
    },
    {
      "cell_type": "code",
      "source": [
        "# Custom dataset 생성\n",
        "class TravelDataset(Dataset):\n",
        "    def __init__(self, path2img, transform=False):\n",
        "        super().__init__()\n",
        "        self.path2a = join(path2img, 'a')\n",
        "        self.path2b = join(path2img, 'b')\n",
        "        self.img_filenames = [x for x in listdir(self.path2a)]\n",
        "        self.transform = transform\n",
        "\n",
        "    def __getitem__(self, index):\n",
        "        a = Image.open(join(self.path2a, self.img_filenames[index])).convert('RGB')\n",
        "        b = Image.open(join(self.path2b, self.img_filenames[index])).convert('RGB')\n",
        "        \n",
        "        if self.transform:\n",
        "            a = self.transform(a)\n",
        "            b = self.transform(b)\n",
        "\n",
        "        return b,a\n",
        "\n",
        "    def __len__(self):\n",
        "        return len(self.img_filenames)"
      ],
      "metadata": {
        "id": "046Si1amkTxt"
      },
      "execution_count": null,
      "outputs": []
    },
    {
      "cell_type": "code",
      "source": [
        "# transforms 정의\n",
        "transform = transforms.Compose([\n",
        "                    transforms.ToTensor(),\n",
        "                    transforms.Normalize([0.5,0.5,0.5],[0.5,0.5,0.5]),\n",
        "                    transforms.Resize((256,256))\n",
        "])"
      ],
      "metadata": {
        "id": "grxlrLNPkT-D"
      },
      "execution_count": null,
      "outputs": []
    },
    {
      "cell_type": "code",
      "source": [
        "# 데이터셋 불러오기\n",
        "train_ds = TravelDataset(root, transform=transform)"
      ],
      "metadata": {
        "id": "IknhqWbikUDZ"
      },
      "execution_count": null,
      "outputs": []
    },
    {
      "cell_type": "code",
      "source": [
        "# 샘플 이미지 확인하기\n",
        "a,b = train_ds[1]\n",
        "plt.figure(figsize=(10,10))\n",
        "plt.subplot(1,2,1)\n",
        "plt.imshow(to_pil_image(0.5*a+0.5))\n",
        "plt.axis('off')\n",
        "plt.subplot(1,2,2)\n",
        "plt.imshow(to_pil_image(0.5*b+0.5))\n",
        "plt.axis('off')"
      ],
      "metadata": {
        "id": "BdyPJr7AkUH6"
      },
      "execution_count": null,
      "outputs": []
    },
    {
      "cell_type": "code",
      "source": [
        "# 데이터 로더 생성하기\n",
        "train_dl = DataLoader(train_ds, batch_size=32, shuffle=True)"
      ],
      "metadata": {
        "id": "PpCk-VyrkUMF"
      },
      "execution_count": null,
      "outputs": []
    },
    {
      "cell_type": "code",
      "source": [
        "# UNet\n",
        "class UNetDown(nn.Module):\n",
        "    def __init__(self, in_channels, out_channels, normalize=True, dropout=0.0):\n",
        "        super().__init__()\n",
        "\n",
        "        layers = [nn.Conv2d(in_channels, out_channels, 4, stride=2, padding=1, bias=False)]\n",
        "\n",
        "        if normalize:\n",
        "            layers.append(nn.InstanceNorm2d(out_channels)),\n",
        "\n",
        "        layers.append(nn.LeakyReLU(0.2))\n",
        "\n",
        "        if dropout:\n",
        "            layers.append(nn.Dropout(dropout))\n",
        "\n",
        "        self.down = nn.Sequential(*layers)\n",
        "\n",
        "    def forward(self, x):\n",
        "        x = self.down(x)\n",
        "        return x\n",
        "\n",
        "# check\n",
        "x = torch.randn(16, 3, 256,256, device=device)\n",
        "model = UNetDown(3,64).to(device)\n",
        "down_out = model(x)\n",
        "print(down_out.shape)"
      ],
      "metadata": {
        "id": "Kj1UbpGWkUP9"
      },
      "execution_count": null,
      "outputs": []
    },
    {
      "cell_type": "code",
      "source": [
        "class UNetUp(nn.Module):\n",
        "    def __init__(self, in_channels, out_channels, dropout=0.0):\n",
        "        super().__init__()\n",
        "\n",
        "        layers = [\n",
        "            nn.ConvTranspose2d(in_channels, out_channels,4,2,1,bias=False),\n",
        "            nn.InstanceNorm2d(out_channels),\n",
        "            nn.LeakyReLU()\n",
        "        ]\n",
        "\n",
        "        if dropout:\n",
        "            layers.append(nn.Dropout(dropout))\n",
        "\n",
        "        self.up = nn.Sequential(*layers)\n",
        "\n",
        "    def forward(self,x,skip):\n",
        "        x = self.up(x)\n",
        "        x = torch.cat((x,skip),1)\n",
        "        return x\n",
        "\n",
        "# check\n",
        "x = torch.randn(16, 128, 64, 64, device=device)\n",
        "model = UNetUp(128,64).to(device)\n",
        "out = model(x,down_out)\n",
        "print(out.shape)"
      ],
      "metadata": {
        "id": "c9lTkzOJkUT2"
      },
      "execution_count": null,
      "outputs": []
    },
    {
      "cell_type": "code",
      "source": [
        "# 가짜 이미지 생성\n",
        "class GeneratorUNet(nn.Module):\n",
        "    def __init__(self, in_channels=3, out_channels=3):\n",
        "        super().__init__()\n",
        "\n",
        "        self.down1 = UNetDown(in_channels, 64, normalize=False)\n",
        "        self.down2 = UNetDown(64,128)                 \n",
        "        self.down3 = UNetDown(128,256)               \n",
        "        self.down4 = UNetDown(256,512,dropout=0.5) \n",
        "        self.down5 = UNetDown(512,512,dropout=0.5)      \n",
        "        self.down6 = UNetDown(512,512,dropout=0.5)             \n",
        "        self.down7 = UNetDown(512,512,dropout=0.5)              \n",
        "        self.down8 = UNetDown(512,512,normalize=False,dropout=0.5)\n",
        "\n",
        "        self.up1 = UNetUp(512,512,dropout=0.5)\n",
        "        self.up2 = UNetUp(1024,512,dropout=0.5)\n",
        "        self.up3 = UNetUp(1024,512,dropout=0.5)\n",
        "        self.up4 = UNetUp(1024,512,dropout=0.5)\n",
        "        self.up5 = UNetUp(1024,256)\n",
        "        self.up6 = UNetUp(512,128)\n",
        "        self.up7 = UNetUp(256,64)\n",
        "        self.up8 = nn.Sequential(\n",
        "            nn.ConvTranspose2d(128,3,4,stride=2,padding=1),\n",
        "            nn.Tanh()\n",
        "        )\n",
        "\n",
        "    def forward(self, x):\n",
        "        d1 = self.down1(x)\n",
        "        d2 = self.down2(d1)\n",
        "        d3 = self.down3(d2)\n",
        "        d4 = self.down4(d3)\n",
        "        d5 = self.down5(d4)\n",
        "        d6 = self.down6(d5)\n",
        "        d7 = self.down7(d6)\n",
        "        d8 = self.down8(d7)\n",
        "\n",
        "        u1 = self.up1(d8,d7)\n",
        "        u2 = self.up2(u1,d6)\n",
        "        u3 = self.up3(u2,d5)\n",
        "        u4 = self.up4(u3,d4)\n",
        "        u5 = self.up5(u4,d3)\n",
        "        u6 = self.up6(u5,d2)\n",
        "        u7 = self.up7(u6,d1)\n",
        "        u8 = self.up8(u7)\n",
        "\n",
        "        return u8\n",
        "\n",
        "# check\n",
        "x = torch.randn(16,3,256,256,device=device)\n",
        "model = GeneratorUNet().to(device)\n",
        "out = model(x)\n",
        "print(out.shape)"
      ],
      "metadata": {
        "id": "-riqHkxskVsC"
      },
      "execution_count": null,
      "outputs": []
    },
    {
      "cell_type": "code",
      "source": [
        "class Dis_block(nn.Module):\n",
        "    def __init__(self, in_channels, out_channels, normalize=True):\n",
        "        super().__init__()\n",
        "\n",
        "        layers = [nn.Conv2d(in_channels, out_channels, 3, stride=2, padding=1)]\n",
        "        if normalize:\n",
        "            layers.append(nn.InstanceNorm2d(out_channels))\n",
        "        layers.append(nn.LeakyReLU(0.2))\n",
        "    \n",
        "        self.block = nn.Sequential(*layers)\n",
        "\n",
        "    def forward(self, x):\n",
        "        x = self.block(x)\n",
        "        return x\n",
        "\n",
        "# check\n",
        "x = torch.randn(16,64,128,128,device=device)\n",
        "model = Dis_block(64,128).to(device)\n",
        "out = model(x)\n",
        "print(out.shape)"
      ],
      "metadata": {
        "id": "Pc6FhyR6kVxp"
      },
      "execution_count": null,
      "outputs": []
    },
    {
      "cell_type": "code",
      "source": [
        "# Patch Gan을 사용하는 Discriminator\n",
        "# Patch Gan: 이미지를 16x16의 패치로 분할하여 각 패치가 진짜인지 가짜인지 판별하고, 그 결과에 평균을 취한다.\n",
        "\n",
        "class Discriminator(nn.Module):\n",
        "    def __init__(self, in_channels=3):\n",
        "        super().__init__()\n",
        "\n",
        "        self.stage_1 = Dis_block(in_channels*2,64,normalize=False)\n",
        "        self.stage_2 = Dis_block(64,128)\n",
        "        self.stage_3 = Dis_block(128,256)\n",
        "        self.stage_4 = Dis_block(256,512)\n",
        "\n",
        "        self.patch = nn.Conv2d(512,1,3,padding=1) # 16x16 패치 생성\n",
        "\n",
        "    def forward(self,a,b):\n",
        "        x = torch.cat((a,b),1)\n",
        "        x = self.stage_1(x)\n",
        "        x = self.stage_2(x)\n",
        "        x = self.stage_3(x)\n",
        "        x = self.stage_4(x)\n",
        "        x = self.patch(x)\n",
        "        x = torch.sigmoid(x)\n",
        "        return x\n",
        "# check\n",
        "x = torch.randn(16,3,256,256,device=device)\n",
        "model = Discriminator().to(device)\n",
        "out = model(x,x)\n",
        "print(out.shape)"
      ],
      "metadata": {
        "id": "N12t5EXKkV22"
      },
      "execution_count": null,
      "outputs": []
    },
    {
      "cell_type": "code",
      "source": [
        "model_gen = GeneratorUNet().to(device)\n",
        "model_dis = Discriminator().to(device)"
      ],
      "metadata": {
        "id": "xyRRaqgqkV76"
      },
      "execution_count": null,
      "outputs": []
    },
    {
      "cell_type": "code",
      "source": [
        "# 가중치 초기화\n",
        "def initialize_weights(model):\n",
        "    class_name = model.__class__.__name__\n",
        "    if class_name.find('Conv') != -1:\n",
        "        nn.init.normal_(model.weight.data, 0.0, 0.02)\n",
        "\n",
        "\n",
        "# 가중치 초기화 적용\n",
        "model_gen.apply(initialize_weights);\n",
        "model_dis.apply(initialize_weights);"
      ],
      "metadata": {
        "id": "gmMDt_8QkWAO"
      },
      "execution_count": null,
      "outputs": []
    },
    {
      "cell_type": "markdown",
      "source": [
        "# 학습하기"
      ],
      "metadata": {
        "id": "DLUtf63Bk9Ff"
      }
    },
    {
      "cell_type": "code",
      "source": [
        "# 손실함수\n",
        "loss_func_gan = nn.BCELoss()\n",
        "loss_func_pix = nn.L1Loss()\n",
        "\n",
        "# loss_func_pix 가중치\n",
        "lambda_pixel = 100\n",
        "\n",
        "# patch 수\n",
        "patch = (1,16,16)\n",
        "\n",
        "# 최적화 파라미터\n",
        "from torch import optim\n",
        "lr = 2e-4\n",
        "beta1 = 0.5\n",
        "beta2 = 0.999\n",
        "\n",
        "opt_dis = optim.Adam(model_dis.parameters(),lr=lr,betas=(beta1,beta2))\n",
        "opt_gen = optim.Adam(model_gen.parameters(),lr=lr,betas=(beta1,beta2))"
      ],
      "metadata": {
        "id": "n5jUzkRwkWEa"
      },
      "execution_count": null,
      "outputs": []
    },
    {
      "cell_type": "code",
      "source": [
        "# 학습\n",
        "model_gen.train()\n",
        "model_dis.train()\n",
        "\n",
        "batch_count = 0\n",
        "num_epochs = 100\n",
        "start_time = time.time()\n",
        "\n",
        "loss_hist = {'gen':[],\n",
        "             'dis':[]}\n",
        "\n",
        "for epoch in range(num_epochs):\n",
        "    for a, b in train_dl:\n",
        "        ba_si = a.size(0)\n",
        "\n",
        "        # real image\n",
        "        real_a = a.to(device)\n",
        "        real_b = b.to(device)\n",
        "\n",
        "        # patch label\n",
        "        real_label = torch.ones(ba_si, *patch, requires_grad=False).to(device)\n",
        "        fake_label = torch.zeros(ba_si, *patch, requires_grad=False).to(device)\n",
        "\n",
        "        # generator\n",
        "        model_gen.zero_grad()\n",
        "\n",
        "        fake_b = model_gen(real_a) # 가짜 이미지 생성\n",
        "        out_dis = model_dis(fake_b, real_b) # 가짜 이미지 식별\n",
        "\n",
        "        gen_loss = loss_func_gan(out_dis, real_label)\n",
        "        pixel_loss = loss_func_pix(fake_b, real_b)\n",
        "\n",
        "        g_loss = gen_loss + lambda_pixel * pixel_loss\n",
        "        g_loss.backward()\n",
        "        opt_gen.step()\n",
        "\n",
        "        # discriminator\n",
        "        model_dis.zero_grad()\n",
        "\n",
        "        out_dis = model_dis(real_b, real_a) # 진짜 이미지 식별\n",
        "        real_loss = loss_func_gan(out_dis,real_label)\n",
        "        \n",
        "        out_dis = model_dis(fake_b.detach(), real_a) # 가짜 이미지 식별\n",
        "        fake_loss = loss_func_gan(out_dis,fake_label)\n",
        "\n",
        "        d_loss = (real_loss + fake_loss) / 2.\n",
        "        d_loss.backward()\n",
        "        opt_dis.step()\n",
        "\n",
        "        loss_hist['gen'].append(g_loss.item())\n",
        "        loss_hist['dis'].append(d_loss.item())\n",
        "\n",
        "        batch_count += 1\n",
        "        if batch_count % 32 == 0:\n",
        "            print('Epoch: %.0f, G_Loss: %.6f, D_Loss: %.6f, time: %.2f min' %(epoch, g_loss.item(), d_loss.item(), (time.time()-start_time)/60))"
      ],
      "metadata": {
        "id": "He8xuscnk5Wp"
      },
      "execution_count": null,
      "outputs": []
    },
    {
      "cell_type": "code",
      "source": [
        "# loss history\n",
        "plt.figure(figsize=(10,5))\n",
        "plt.title('Loss Progress')\n",
        "plt.plot(loss_hist['gen'], label='Gen. Loss')\n",
        "plt.plot(loss_hist['dis'], label='Dis. Loss')\n",
        "plt.xlabel('batch count')\n",
        "plt.ylabel('Loss')\n",
        "plt.legend()\n",
        "plt.show()"
      ],
      "metadata": {
        "id": "WR6KiUNIk5f8"
      },
      "execution_count": null,
      "outputs": []
    },
    {
      "cell_type": "code",
      "source": [
        "# 가중치 저장\n",
        "path2models = root + '/models/'\n",
        "os.makedirs(path2models, exist_ok=True)\n",
        "path2weights_gen = os.path.join(path2models, 'weights_gen.pt')\n",
        "path2weights_dis = os.path.join(path2models, 'weights_dis.pt')\n",
        "\n",
        "torch.save(model_gen.state_dict(), path2weights_gen)\n",
        "torch.save(model_dis.state_dict(), path2weights_dis)"
      ],
      "metadata": {
        "id": "J8UnK4iok5lz"
      },
      "execution_count": null,
      "outputs": []
    },
    {
      "cell_type": "code",
      "source": [
        "# 가중치 불러오기\n",
        "path2models = root + '/models/'\n",
        "\n",
        "path2weights_gen = os.path.join(path2models, 'weights_gen.pt')\n",
        "path2weights_dis = os.path.join(path2models, 'weights_dis.pt')\n",
        "\n",
        "weights = torch.load(path2weights_gen)\n",
        "model_gen.load_state_dict(weights)"
      ],
      "metadata": {
        "id": "-A1ZltzKk5rh"
      },
      "execution_count": null,
      "outputs": []
    },
    {
      "cell_type": "code",
      "source": [
        "# evaluation model\n",
        "model_gen.eval()\n",
        "\n",
        "# 가짜 이미지 생성\n",
        "with torch.no_grad():\n",
        "    for a,b in train_dl:\n",
        "        fake_imgs = model_gen(a.to(device)).detach().cpu()\n",
        "        draw_imgs = a\n",
        "        real_imgs = b\n",
        "        break\n",
        "real_imgs.shape"
      ],
      "metadata": {
        "id": "Ma6tdowtk5wm"
      },
      "execution_count": null,
      "outputs": []
    },
    {
      "cell_type": "code",
      "source": [
        "# 가짜 이미지 시각화\n",
        "plt.figure(figsize=(20,20))\n",
        "\n",
        "for i in range(0,32,3):\n",
        "    plt.subplot(12,6,i+1)\n",
        "    plt.imshow(to_pil_image(0.5*real_imgs[i]+0.5))\n",
        "    plt.axis('off')\n",
        "    plt.subplot(12,6,i+2)\n",
        "    plt.imshow(to_pil_image(0.5*draw_imgs[i]+0.5))\n",
        "    plt.axis('off')\n",
        "    plt.subplot(12,6,i+3)\n",
        "    plt.imshow(to_pil_image(0.5*fake_imgs[i]+0.5))\n",
        "    plt.axis('off')\n"
      ],
      "metadata": {
        "id": "1aS2UBX4k51v"
      },
      "execution_count": null,
      "outputs": []
    }
  ]
}